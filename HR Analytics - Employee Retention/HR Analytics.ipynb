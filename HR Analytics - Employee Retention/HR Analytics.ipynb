{
 "cells": [
  {
   "cell_type": "markdown",
   "metadata": {},
   "source": [
    "# HR Analytics: Employee Retention"
   ]
  },
  {
   "cell_type": "markdown",
   "metadata": {},
   "source": [
    "Goals of this mini project:\n",
    "\n",
    "1. to investigate what reasons potentially made the employees of a company leave their jobs in the past;\n",
    "2. to build a model that can accurately predict when other employees are about to leave the company due to dissatisfaction.\n",
    "\n",
    "Needless to say that this kind of information can be very useful for any company, since it helps spotting management deficiencies and avoiding expenses related to employee turnover, among other benefits.\n",
    "\n",
    "For this task, a data set containing information about ~15000 employees was used. Different learning algorithms are applied to build the predictive models, and their results are evaluated in terms of sensibility, specificity and the area under the Receiver Operating Characteristic (ROC) curve."
   ]
  },
  {
   "cell_type": "markdown",
   "metadata": {},
   "source": [
    "## 1 Data load"
   ]
  },
  {
   "cell_type": "code",
   "execution_count": null,
   "metadata": {
    "collapsed": true
   },
   "outputs": [],
   "source": [
    "# The data set is in CSV format.\n",
    "data <- read.csv('raw_data.csv', header = TRUE)"
   ]
  },
  {
   "cell_type": "code",
   "execution_count": null,
   "metadata": {
    "collapsed": false
   },
   "outputs": [],
   "source": [
    "# Get the size of the data set.\n",
    "dim(data)"
   ]
  },
  {
   "cell_type": "code",
   "execution_count": null,
   "metadata": {
    "collapsed": false
   },
   "outputs": [],
   "source": [
    "# Basic description.\n",
    "str(data)"
   ]
  },
  {
   "cell_type": "code",
   "execution_count": null,
   "metadata": {
    "collapsed": false
   },
   "outputs": [],
   "source": [
    "# First 5 observations.\n",
    "head(data)"
   ]
  },
  {
   "cell_type": "code",
   "execution_count": null,
   "metadata": {
    "collapsed": false
   },
   "outputs": [],
   "source": [
    "# Last 5 observations.\n",
    "tail(data)"
   ]
  },
  {
   "cell_type": "code",
   "execution_count": null,
   "metadata": {
    "collapsed": false
   },
   "outputs": [],
   "source": [
    "# Min, max, mean, median, quartiles and frequencies.\n",
    "summary(data)"
   ]
  },
  {
   "cell_type": "code",
   "execution_count": null,
   "metadata": {
    "collapsed": false
   },
   "outputs": [],
   "source": [
    "# Count missing values.\n",
    "sapply(data, function(column) { sum(is.na(column)) })"
   ]
  },
  {
   "cell_type": "markdown",
   "metadata": {},
   "source": [
    "So the data set contains exactly 14999 observations and each is described by 12 features:\n",
    "\n",
    "* `name`: employee's last name.\n",
    "* `satisfaction_level`: employee's satisfaction, as a 0-1 score.\n",
    "* `last_evaluation`: employee's score in the last evaluation, as a 0-1 score.\n",
    "* `number_projects`: number of projects the employee has worked on.\n",
    "* `average_monthly_hours`: average working hours per month.\n",
    "* `time_spent_company`: how long (years) the employee works at the company.\n",
    "* `work_accident`: values 1 if the employee has had any work accident, and 0 otherwise.\n",
    "* `left`: values 1 if the employee has left the company, and 0 otherwise.\n",
    "* `promotion_last_5_years`: values 1 if the employee has received a promotion in the last 5 years, and 0 otherwise.\n",
    "* `department`: department the employee works in.\n",
    "* `salary`: employee's salary level (\"low\", \"medium\", \"high\").\n",
    "* `salary_level`: employee's salary level as a number (1, 2, 3).\n",
    "\n",
    "There are no missing values to be filled.\n",
    "\n",
    "`left` is the target variable."
   ]
  },
  {
   "cell_type": "code",
   "execution_count": null,
   "metadata": {
    "collapsed": true
   },
   "outputs": [],
   "source": [
    "# Represent nominal features as factors.\n",
    "data$work_accident <- factor(data$work_accident, labels = c('no', 'yes'))\n",
    "data$left <- factor(data$left, labels = c('no', 'yes'))\n",
    "data$promotion_last_5_years <- factor(data$promotion_last_5_years, labels = c('no', 'yes'))\n",
    "data$salary <- factor(data$salary, levels = c('low', 'medium', 'high'), ordered = TRUE)"
   ]
  },
  {
   "cell_type": "markdown",
   "metadata": {},
   "source": [
    "## 2 Exploratory data analysis"
   ]
  },
  {
   "cell_type": "code",
   "execution_count": null,
   "metadata": {
    "collapsed": false
   },
   "outputs": [],
   "source": [
    "library(ggplot2)\n",
    "library(dplyr)"
   ]
  },
  {
   "cell_type": "code",
   "execution_count": null,
   "metadata": {
    "collapsed": false
   },
   "outputs": [],
   "source": [
    "# Feature names.\n",
    "names.nominal <- c('work_accident', 'left', 'promotion_last_5_years',\n",
    "                   'department', 'salary')\n",
    "names.numerical <- c('satisfaction_level', 'last_evaluation', 'number_projects',\n",
    "                     'average_monthly_hours', 'time_spent_company')"
   ]
  },
  {
   "cell_type": "markdown",
   "metadata": {},
   "source": [
    "### Feature distributions"
   ]
  },
  {
   "cell_type": "code",
   "execution_count": null,
   "metadata": {
    "collapsed": true
   },
   "outputs": [],
   "source": [
    "options(repr.plot.width = 7, repr.plot.height = 2)"
   ]
  },
  {
   "cell_type": "markdown",
   "metadata": {},
   "source": [
    "### Feature correlations"
   ]
  },
  {
   "cell_type": "code",
   "execution_count": null,
   "metadata": {
    "collapsed": true
   },
   "outputs": [],
   "source": [
    "options(repr.plot.width = 7, repr.plot.height = 8)"
   ]
  },
  {
   "cell_type": "markdown",
   "metadata": {},
   "source": [
    "## 3 Preprocessing"
   ]
  },
  {
   "cell_type": "code",
   "execution_count": null,
   "metadata": {
    "collapsed": true
   },
   "outputs": [],
   "source": []
  },
  {
   "cell_type": "markdown",
   "metadata": {},
   "source": [
    "## 4 Model training"
   ]
  },
  {
   "cell_type": "code",
   "execution_count": null,
   "metadata": {
    "collapsed": true
   },
   "outputs": [],
   "source": []
  },
  {
   "cell_type": "markdown",
   "metadata": {},
   "source": [
    "## 5 Results"
   ]
  },
  {
   "cell_type": "code",
   "execution_count": null,
   "metadata": {
    "collapsed": true
   },
   "outputs": [],
   "source": []
  }
 ],
 "metadata": {
  "kernelspec": {
   "display_name": "R",
   "language": "R",
   "name": "ir"
  },
  "language_info": {
   "codemirror_mode": "r",
   "file_extension": ".r",
   "mimetype": "text/x-r-source",
   "name": "R",
   "pygments_lexer": "r",
   "version": "3.3.1"
  }
 },
 "nbformat": 4,
 "nbformat_minor": 2
}
