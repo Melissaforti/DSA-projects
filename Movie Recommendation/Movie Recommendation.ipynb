{
 "cells": [
  {
   "cell_type": "markdown",
   "metadata": {},
   "source": [
    "# Movie Recommendation"
   ]
  },
  {
   "cell_type": "markdown",
   "metadata": {},
   "source": [
    "In this project our goal is to build a movie recommendation system using collaborative filtering. Collaborative filtering is a learning technique used to make predictions (filtering) about the interests of a user by collecting preferences of taste information from many other users (collaboration). The underlying assumption of the collaborative filtering approach is that if a person A has the same opinion as a person B on an issue, A is more likely to have B's opinion on a different issue than that of a randomly chosen person.\n",
    "\n",
    "For this task, the [Movielens dataset](https://grouplens.org/datasets/movielens/) was used. It contains 20 million ratings and 465000 tag applications applied to 27000 movies by 138000 users.\n",
    "\n",
    "The Apache Spark framework (and its Machine Learning library) was used to process the data."
   ]
  },
  {
   "cell_type": "markdown",
   "metadata": {},
   "source": [
    "## Spark setup"
   ]
  },
  {
   "cell_type": "markdown",
   "metadata": {},
   "source": [
    "As some functionalities of the Spark SQL component will be used, we need to initialize a `SparkSession` object.\n",
    "\n",
    "The `SparkContext` object (required for other basic functionalities) is automatically created by PySpark and it is defined in the `sc` variable."
   ]
  },
  {
   "cell_type": "code",
   "execution_count": 1,
   "metadata": {
    "collapsed": true
   },
   "outputs": [],
   "source": [
    "from pyspark.sql import SparkSession"
   ]
  },
  {
   "cell_type": "code",
   "execution_count": 2,
   "metadata": {
    "collapsed": true
   },
   "outputs": [],
   "source": [
    "ss = SparkSession.builder.appName(\"Movie Recommendation\").getOrCreate()"
   ]
  },
  {
   "cell_type": "markdown",
   "metadata": {},
   "source": [
    "## Data load"
   ]
  },
  {
   "cell_type": "markdown",
   "metadata": {},
   "source": [
    "The MovieLens dataset is composed of three text files:\n",
    "\n",
    "- `users.dat`: contains information about the genre, age, occupation and zipcode of each user.\n",
    "- `movies.dat`: contains information about the title, year and genres of each movie.\n",
    "- `ratings.dat`: contains the ratings that users gave to the movies they watched.\n",
    "\n",
    "They can be opened as plain text RDDs."
   ]
  },
  {
   "cell_type": "code",
   "execution_count": 3,
   "metadata": {
    "collapsed": true
   },
   "outputs": [],
   "source": [
    "import os"
   ]
  },
  {
   "cell_type": "code",
   "execution_count": 4,
   "metadata": {
    "collapsed": false
   },
   "outputs": [
    {
     "data": {
      "text/plain": [
       "['1::F::1::10::48067',\n",
       " '2::M::56::16::70072',\n",
       " '3::M::25::15::55117',\n",
       " '4::M::45::7::02460',\n",
       " '5::M::25::20::55455']"
      ]
     },
     "execution_count": 4,
     "metadata": {},
     "output_type": "execute_result"
    }
   ],
   "source": [
    "usersRDD = sc.textFile(os.path.join(\"ml-1m\", \"users.dat\"))\n",
    "usersRDD.take(5)"
   ]
  },
  {
   "cell_type": "code",
   "execution_count": 5,
   "metadata": {
    "collapsed": false
   },
   "outputs": [
    {
     "data": {
      "text/plain": [
       "[\"1::Toy Story (1995)::Animation|Children's|Comedy\",\n",
       " \"2::Jumanji (1995)::Adventure|Children's|Fantasy\",\n",
       " '3::Grumpier Old Men (1995)::Comedy|Romance',\n",
       " '4::Waiting to Exhale (1995)::Comedy|Drama',\n",
       " '5::Father of the Bride Part II (1995)::Comedy']"
      ]
     },
     "execution_count": 5,
     "metadata": {},
     "output_type": "execute_result"
    }
   ],
   "source": [
    "moviesRDD = sc.textFile(os.path.join(\"ml-1m\", \"movies.dat\"))\n",
    "moviesRDD.take(5)"
   ]
  },
  {
   "cell_type": "code",
   "execution_count": 6,
   "metadata": {
    "collapsed": false
   },
   "outputs": [
    {
     "data": {
      "text/plain": [
       "['1::1193::5::978300760',\n",
       " '1::661::3::978302109',\n",
       " '1::914::3::978301968',\n",
       " '1::3408::4::978300275',\n",
       " '1::2355::5::978824291']"
      ]
     },
     "execution_count": 6,
     "metadata": {},
     "output_type": "execute_result"
    }
   ],
   "source": [
    "ratingsRDD = sc.textFile(os.path.join(\"ml-1m\", \"ratings.dat\"))\n",
    "ratingsRDD.take(5)"
   ]
  },
  {
   "cell_type": "markdown",
   "metadata": {},
   "source": [
    "## Data preparation"
   ]
  },
  {
   "cell_type": "markdown",
   "metadata": {},
   "source": [
    "The plain text RDDs must be converted to structured data so we can use SQL queries and other high level operations to manipulate them. This is done for each RDD separately as each dataset has its own schema."
   ]
  },
  {
   "cell_type": "code",
   "execution_count": 7,
   "metadata": {
    "collapsed": true
   },
   "outputs": [],
   "source": [
    "from pyspark.sql import Row\n",
    "import datetime as dt\n",
    "import re"
   ]
  },
  {
   "cell_type": "markdown",
   "metadata": {},
   "source": [
    "### Users"
   ]
  },
  {
   "cell_type": "markdown",
   "metadata": {},
   "source": [
    "According to the MovieLens dataset's documentation, each user record is composed of 5 fields:\n",
    "\n",
    "- userID: User's unique identification.\n",
    "- gender: User's gender (\"F\" for females, \"M\" for males).\n",
    "- age: User's age range encoded as a number (see below).\n",
    "- occupation: User's occupation encoded as a number (see below).\n",
    "- zipcode: User's zipcode.\n",
    "\n",
    "We usually need to encode categorical features as numbers (or sets of binary features) in order to use them in predictive models. Here, the `age` and `occupation` field values are already encoded; however, in a preliminary analysis it might be useful to know their actual values for the sake of interpretation. So this default encoding is undone and the codes are translated to the actual values they represent. Later, when needed, we may encode them again using Spark's `StringIndexer` class.\n",
    "\n",
    "Thus, in the following cells the plain textual data for each user is split, the field values are computed, and the result is put into a structured `DataFrame`."
   ]
  },
  {
   "cell_type": "code",
   "execution_count": 8,
   "metadata": {
    "collapsed": true
   },
   "outputs": [],
   "source": [
    "agesDict = {\n",
    "    \"1\": \"Under 18\",\n",
    "    \"18\": \"18-24\",\n",
    "    \"25\": \"25-34\",\n",
    "    \"35\": \"35-44\",\n",
    "    \"45\": \"45-49\",\n",
    "    \"50\": \"50-55\",\n",
    "    \"56\": \"Over 56\",\n",
    "}"
   ]
  },
  {
   "cell_type": "code",
   "execution_count": 9,
   "metadata": {
    "collapsed": true
   },
   "outputs": [],
   "source": [
    "occupationsDict = {\n",
    "    \"0\": \"other or unspecified\",\n",
    "    \"1\": \"academic/educator\",\n",
    "    \"2\": \"artist\",\n",
    "    \"3\": \"clerical/admin\",\n",
    "    \"4\": \"college/grad student\",\n",
    "    \"5\": \"customer service\",\n",
    "    \"6\": \"doctor/health care\",\n",
    "    \"7\": \"executive/managerial\",\n",
    "    \"8\": \"farmer\",\n",
    "    \"9\": \"homemaker\",\n",
    "    \"10\": \"K-12 student\",\n",
    "    \"11\": \"lawyer\",\n",
    "    \"12\": \"programmer\",\n",
    "    \"13\": \"retired\",\n",
    "    \"14\": \"sales/marketing\",\n",
    "    \"15\": \"scientist\",\n",
    "    \"16\": \"self-employed\",\n",
    "    \"17\": \"technician/engineer\",\n",
    "    \"18\": \"tradesman/craftsman\",\n",
    "    \"19\": \"unemployed\",\n",
    "    \"20\": \"writer\",\n",
    "}"
   ]
  },
  {
   "cell_type": "code",
   "execution_count": 10,
   "metadata": {
    "collapsed": false
   },
   "outputs": [
    {
     "data": {
      "text/plain": [
       "[Row(age='Under 18', gender='F', occupation='K-12 student', userID=1, zipcode='48067'),\n",
       " Row(age='Over 56', gender='M', occupation='self-employed', userID=2, zipcode='70072'),\n",
       " Row(age='25-34', gender='M', occupation='scientist', userID=3, zipcode='55117'),\n",
       " Row(age='45-49', gender='M', occupation='executive/managerial', userID=4, zipcode='02460'),\n",
       " Row(age='25-34', gender='M', occupation='writer', userID=5, zipcode='55455')]"
      ]
     },
     "execution_count": 10,
     "metadata": {},
     "output_type": "execute_result"
    }
   ],
   "source": [
    "usersRDD = usersRDD.map(lambda line: line.split(\"::\")) \\\n",
    "                   .map(lambda t: Row(userID=int(t[0]),\n",
    "                                      gender=t[1],\n",
    "                                      age=agesDict[t[2]],\n",
    "                                      occupation=occupationsDict[t[3]],\n",
    "                                      zipcode=t[4]))\n",
    "usersRDD.take(5)"
   ]
  },
  {
   "cell_type": "code",
   "execution_count": 11,
   "metadata": {
    "collapsed": false
   },
   "outputs": [
    {
     "name": "stdout",
     "output_type": "stream",
     "text": [
      "+--------+------+--------------------+------+-------+\n",
      "|age     |gender|occupation          |userID|zipcode|\n",
      "+--------+------+--------------------+------+-------+\n",
      "|Under 18|F     |K-12 student        |1     |48067  |\n",
      "|Over 56 |M     |self-employed       |2     |70072  |\n",
      "|25-34   |M     |scientist           |3     |55117  |\n",
      "|45-49   |M     |executive/managerial|4     |02460  |\n",
      "|25-34   |M     |writer              |5     |55455  |\n",
      "+--------+------+--------------------+------+-------+\n",
      "only showing top 5 rows\n",
      "\n"
     ]
    }
   ],
   "source": [
    "usersDF = ss.createDataFrame(usersRDD)\n",
    "usersDF.show(5, truncate=False)"
   ]
  },
  {
   "cell_type": "markdown",
   "metadata": {},
   "source": [
    "### Movies"
   ]
  },
  {
   "cell_type": "markdown",
   "metadata": {},
   "source": [
    "At first, each movie record is composed of 3 fields:\n",
    "\n",
    "- movieID: Movie's unique identification.\n",
    "- title: Movie's title and year (see below).\n",
    "- genres: List of all genres the movie fits to.\n",
    "\n",
    "The `title` field includes the movie's year because there are movies with same name made (or remade) in different epochs, and the year information would be the only way to distinct them. However, as we have a `movieID` field, this is not really necessary. So we can extract the year from the title and make another field.\n",
    "\n",
    "Thus, in the following cells the plain textual data for each movie is split, the field values are computed, and the result is put into a structured `DataFrame`."
   ]
  },
  {
   "cell_type": "code",
   "execution_count": 12,
   "metadata": {
    "collapsed": false
   },
   "outputs": [
    {
     "data": {
      "text/plain": [
       "[Row(genres=\"Animation|Children's|Comedy\", movieID=1, title='Toy Story', year=1995),\n",
       " Row(genres=\"Adventure|Children's|Fantasy\", movieID=2, title='Jumanji', year=1995),\n",
       " Row(genres='Comedy|Romance', movieID=3, title='Grumpier Old Men', year=1995),\n",
       " Row(genres='Comedy|Drama', movieID=4, title='Waiting to Exhale', year=1995),\n",
       " Row(genres='Comedy', movieID=5, title='Father of the Bride Part II', year=1995)]"
      ]
     },
     "execution_count": 12,
     "metadata": {},
     "output_type": "execute_result"
    }
   ],
   "source": [
    "moviesRDD = moviesRDD.map(lambda line: line.split(\"::\")) \\\n",
    "                     .map(lambda t: (t[0], re.search(r\"(.+)\\s\\((\\d{4})\\)\", t[1]), t[2])) \\\n",
    "                     .map(lambda t: Row(movieID=int(t[0]),\n",
    "                                        title=t[1].group(1),\n",
    "                                        year=int(t[1].group(2)),\n",
    "                                        genres=t[2]))\n",
    "moviesRDD.take(5)"
   ]
  },
  {
   "cell_type": "code",
   "execution_count": 13,
   "metadata": {
    "collapsed": false
   },
   "outputs": [
    {
     "name": "stdout",
     "output_type": "stream",
     "text": [
      "+----------------------------+-------+---------------------------+----+\n",
      "|genres                      |movieID|title                      |year|\n",
      "+----------------------------+-------+---------------------------+----+\n",
      "|Animation|Children's|Comedy |1      |Toy Story                  |1995|\n",
      "|Adventure|Children's|Fantasy|2      |Jumanji                    |1995|\n",
      "|Comedy|Romance              |3      |Grumpier Old Men           |1995|\n",
      "|Comedy|Drama                |4      |Waiting to Exhale          |1995|\n",
      "|Comedy                      |5      |Father of the Bride Part II|1995|\n",
      "+----------------------------+-------+---------------------------+----+\n",
      "only showing top 5 rows\n",
      "\n"
     ]
    }
   ],
   "source": [
    "moviesDF = ss.createDataFrame(moviesRDD)\n",
    "moviesDF.show(5, truncate=False)"
   ]
  },
  {
   "cell_type": "markdown",
   "metadata": {},
   "source": [
    "### Ratings"
   ]
  },
  {
   "cell_type": "markdown",
   "metadata": {},
   "source": [
    "Each rating data is composed of 4 fields:\n",
    "\n",
    "- userID: ID of the user who gave the rating.\n",
    "- movieID: ID of the movie which was rated.\n",
    "- rating: A numerical value ranging from 1 (min) to 5 (max).\n",
    "- timestamp: A number that encodes the date and time the rating was given at.\n",
    "\n",
    "The `timestamp` can be easily converted to a `datetime` object, which is much easier to interpret.\n",
    "\n",
    "Thus, in the following cells the plain textual data for each rating is split, the field values are computed, and the result is put into a structured DataFrame."
   ]
  },
  {
   "cell_type": "code",
   "execution_count": 14,
   "metadata": {
    "collapsed": false
   },
   "outputs": [
    {
     "data": {
      "text/plain": [
       "[Row(movieID=1193, rating=5.0, timestamp=datetime.datetime(2000, 12, 31, 20, 12, 40), userID=1),\n",
       " Row(movieID=661, rating=3.0, timestamp=datetime.datetime(2000, 12, 31, 20, 35, 9), userID=1),\n",
       " Row(movieID=914, rating=3.0, timestamp=datetime.datetime(2000, 12, 31, 20, 32, 48), userID=1),\n",
       " Row(movieID=3408, rating=4.0, timestamp=datetime.datetime(2000, 12, 31, 20, 4, 35), userID=1),\n",
       " Row(movieID=2355, rating=5.0, timestamp=datetime.datetime(2001, 1, 6, 21, 38, 11), userID=1)]"
      ]
     },
     "execution_count": 14,
     "metadata": {},
     "output_type": "execute_result"
    }
   ],
   "source": [
    "ratingsRDD = ratingsRDD.map(lambda line: line.split(\"::\")) \\\n",
    "                       .map(lambda t: Row(userID=int(t[0]),\n",
    "                                          movieID=int(t[1]),\n",
    "                                          rating=float(t[2]),\n",
    "                                          timestamp=dt.datetime.fromtimestamp(int(t[3]))))\n",
    "ratingsRDD.take(5)"
   ]
  },
  {
   "cell_type": "code",
   "execution_count": 15,
   "metadata": {
    "collapsed": false
   },
   "outputs": [
    {
     "name": "stdout",
     "output_type": "stream",
     "text": [
      "+-------+------+---------------------+------+\n",
      "|movieID|rating|timestamp            |userID|\n",
      "+-------+------+---------------------+------+\n",
      "|1193   |5.0   |2000-12-31 20:12:40.0|1     |\n",
      "|661    |3.0   |2000-12-31 20:35:09.0|1     |\n",
      "|914    |3.0   |2000-12-31 20:32:48.0|1     |\n",
      "|3408   |4.0   |2000-12-31 20:04:35.0|1     |\n",
      "|2355   |5.0   |2001-01-06 21:38:11.0|1     |\n",
      "+-------+------+---------------------+------+\n",
      "only showing top 5 rows\n",
      "\n"
     ]
    }
   ],
   "source": [
    "ratingsDF = ss.createDataFrame(ratingsRDD)\n",
    "ratingsDF.show(5, truncate=False)"
   ]
  },
  {
   "cell_type": "markdown",
   "metadata": {},
   "source": [
    "## Exploratory data analysis"
   ]
  },
  {
   "cell_type": "markdown",
   "metadata": {},
   "source": [
    "Here we'll just do some exploration on the structured datasets in order to better understand all the data we have."
   ]
  },
  {
   "cell_type": "markdown",
   "metadata": {},
   "source": [
    "### Users"
   ]
  },
  {
   "cell_type": "code",
   "execution_count": 16,
   "metadata": {
    "collapsed": true
   },
   "outputs": [],
   "source": [
    "usersDF.createOrReplaceTempView(\"users\")"
   ]
  },
  {
   "cell_type": "code",
   "execution_count": 17,
   "metadata": {
    "collapsed": false
   },
   "outputs": [
    {
     "name": "stdout",
     "output_type": "stream",
     "text": [
      "+------+---------+\n",
      "|gender|frequency|\n",
      "+------+---------+\n",
      "|     M|     4331|\n",
      "|     F|     1709|\n",
      "+------+---------+\n",
      "\n"
     ]
    }
   ],
   "source": [
    "# Get the gender distribution.\n",
    "ss.sql(\"\"\"SELECT gender, COUNT(gender) as frequency\n",
    "          FROM users\n",
    "          GROUP BY gender\n",
    "          ORDER BY frequency DESC\"\"\").show()"
   ]
  },
  {
   "cell_type": "code",
   "execution_count": 18,
   "metadata": {
    "collapsed": false
   },
   "outputs": [
    {
     "name": "stdout",
     "output_type": "stream",
     "text": [
      "+--------+---------+\n",
      "|     age|frequency|\n",
      "+--------+---------+\n",
      "|   25-34|     2096|\n",
      "|   35-44|     1193|\n",
      "|   18-24|     1103|\n",
      "|   45-49|      550|\n",
      "|   50-55|      496|\n",
      "| Over 56|      380|\n",
      "|Under 18|      222|\n",
      "+--------+---------+\n",
      "\n"
     ]
    }
   ],
   "source": [
    "# Get the age distribution.\n",
    "ss.sql(\"\"\"SELECT age, COUNT(age) as frequency\n",
    "          FROM users\n",
    "          GROUP BY age\n",
    "          ORDER BY frequency DESC\"\"\").show()"
   ]
  },
  {
   "cell_type": "code",
   "execution_count": 19,
   "metadata": {
    "collapsed": false
   },
   "outputs": [
    {
     "name": "stdout",
     "output_type": "stream",
     "text": [
      "+--------------------+---------+\n",
      "|          occupation|frequency|\n",
      "+--------------------+---------+\n",
      "|college/grad student|      759|\n",
      "|other or unspecified|      711|\n",
      "|executive/managerial|      679|\n",
      "|   academic/educator|      528|\n",
      "| technician/engineer|      502|\n",
      "|          programmer|      388|\n",
      "|     sales/marketing|      302|\n",
      "|              writer|      281|\n",
      "|              artist|      267|\n",
      "|       self-employed|      241|\n",
      "|  doctor/health care|      236|\n",
      "|        K-12 student|      195|\n",
      "|      clerical/admin|      173|\n",
      "|           scientist|      144|\n",
      "|             retired|      142|\n",
      "|              lawyer|      129|\n",
      "|    customer service|      112|\n",
      "|           homemaker|       92|\n",
      "|          unemployed|       72|\n",
      "| tradesman/craftsman|       70|\n",
      "|              farmer|       17|\n",
      "+--------------------+---------+\n",
      "\n"
     ]
    }
   ],
   "source": [
    "# Get the occupation distribution.\n",
    "ss.sql(\"\"\"SELECT occupation, COUNT(occupation) as frequency\n",
    "          FROM users\n",
    "          GROUP BY occupation\n",
    "          ORDER BY frequency DESC\"\"\").show(21)"
   ]
  },
  {
   "cell_type": "code",
   "execution_count": 20,
   "metadata": {
    "collapsed": true
   },
   "outputs": [],
   "source": [
    "ss.catalog.dropTempView(\"users\")"
   ]
  },
  {
   "cell_type": "markdown",
   "metadata": {},
   "source": [
    "### Movies"
   ]
  },
  {
   "cell_type": "code",
   "execution_count": 21,
   "metadata": {
    "collapsed": true
   },
   "outputs": [],
   "source": [
    "moviesDF.createOrReplaceTempView(\"movies\")"
   ]
  },
  {
   "cell_type": "code",
   "execution_count": 22,
   "metadata": {
    "collapsed": false
   },
   "outputs": [],
   "source": [
    "# # Get the year distribution.\n",
    "# ss.sql(\"\"\"SELECT year, COUNT(year) as frequency\n",
    "#           FROM movies\n",
    "#           GROUP BY year\n",
    "#           ORDER BY frequency DESC\"\"\").show()"
   ]
  },
  {
   "cell_type": "code",
   "execution_count": 23,
   "metadata": {
    "collapsed": true
   },
   "outputs": [],
   "source": [
    "ss.catalog.dropTempView(\"movies\")"
   ]
  },
  {
   "cell_type": "markdown",
   "metadata": {},
   "source": [
    "### Ratings"
   ]
  },
  {
   "cell_type": "code",
   "execution_count": 24,
   "metadata": {
    "collapsed": true
   },
   "outputs": [],
   "source": [
    "ratingsDF.createOrReplaceTempView(\"ratings\")"
   ]
  },
  {
   "cell_type": "code",
   "execution_count": 25,
   "metadata": {
    "collapsed": false
   },
   "outputs": [
    {
     "name": "stdout",
     "output_type": "stream",
     "text": [
      "+------+---------+\n",
      "|rating|frequency|\n",
      "+------+---------+\n",
      "|   4.0|   348971|\n",
      "|   3.0|   261197|\n",
      "|   5.0|   226310|\n",
      "|   2.0|   107557|\n",
      "|   1.0|    56174|\n",
      "+------+---------+\n",
      "\n"
     ]
    }
   ],
   "source": [
    "# Get the rating distribution.\n",
    "ss.sql(\"\"\"SELECT rating, COUNT(rating) as frequency\n",
    "          FROM ratings\n",
    "          GROUP BY rating\n",
    "          ORDER BY frequency DESC\"\"\").show()"
   ]
  },
  {
   "cell_type": "code",
   "execution_count": 26,
   "metadata": {
    "collapsed": false
   },
   "outputs": [
    {
     "name": "stdout",
     "output_type": "stream",
     "text": [
      "+------+----------+------------------+\n",
      "|userID|numRatings|         avgRating|\n",
      "+------+----------+------------------+\n",
      "|  4169|      2314|3.5518582541054453|\n",
      "|  1680|      1850|3.5556756756756758|\n",
      "|  4277|      1743| 4.134825014343087|\n",
      "|  1941|      1595|3.0545454545454547|\n",
      "|  1181|      1521| 2.815910585141354|\n",
      "|   889|      1518|2.8405797101449277|\n",
      "|  3618|      1344|3.0081845238095237|\n",
      "|  2063|      1323| 2.945578231292517|\n",
      "|  1150|      1302|2.5906298003072195|\n",
      "|  1015|      1286|3.7262830482115086|\n",
      "|  5795|      1277|3.0563821456538762|\n",
      "|  4344|      1271| 3.331235247836349|\n",
      "|  1980|      1260|3.4825396825396826|\n",
      "|  2909|      1258|3.8227344992050876|\n",
      "|  1449|      1243|2.8061142397425582|\n",
      "|  4510|      1240|2.8379032258064516|\n",
      "|   424|      1226| 3.735725938009788|\n",
      "|  4227|      1222|2.7013093289689034|\n",
      "|  5831|      1220|3.6778688524590164|\n",
      "|  3391|      1216|3.7203947368421053|\n",
      "+------+----------+------------------+\n",
      "only showing top 20 rows\n",
      "\n"
     ]
    }
   ],
   "source": [
    "# Get the most active users and their average ratings.\n",
    "ss.sql(\"\"\"SELECT userID, COUNT(userID) as numRatings, AVG(rating) as avgRating\n",
    "          FROM ratings\n",
    "          GROUP BY userID\n",
    "          ORDER BY numRatings DESC\"\"\").show()"
   ]
  },
  {
   "cell_type": "code",
   "execution_count": 27,
   "metadata": {
    "collapsed": false
   },
   "outputs": [
    {
     "name": "stdout",
     "output_type": "stream",
     "text": [
      "+-------+----------+------------------+\n",
      "|movieID|numRatings|         avgRating|\n",
      "+-------+----------+------------------+\n",
      "|   2858|      3428|4.3173862310385065|\n",
      "|    260|      2991| 4.453694416583082|\n",
      "|   1196|      2990| 4.292976588628763|\n",
      "|   1210|      2883| 4.022892819979188|\n",
      "|    480|      2672|3.7638473053892216|\n",
      "|   2028|      2653| 4.337353938937053|\n",
      "|    589|      2649| 4.058512646281616|\n",
      "|   2571|      2590| 4.315830115830116|\n",
      "|   1270|      2583|3.9903213317847466|\n",
      "|    593|      2578|4.3518231186966645|\n",
      "|   1580|      2538| 3.739952718676123|\n",
      "|   1198|      2514| 4.477724741447892|\n",
      "|    608|      2513| 4.254675686430561|\n",
      "|   2762|      2459| 4.406262708418057|\n",
      "|    110|      2443| 4.234957020057307|\n",
      "|   2396|      2369| 4.127479949345715|\n",
      "|   1197|      2318|4.3037100949094045|\n",
      "|    527|      2304| 4.510416666666667|\n",
      "|   1617|      2288| 4.219405594405594|\n",
      "|   1265|      2278| 3.953028972783143|\n",
      "+-------+----------+------------------+\n",
      "only showing top 20 rows\n",
      "\n"
     ]
    }
   ],
   "source": [
    "# Get the most rated movies and their average ratings.\n",
    "ss.sql(\"\"\"SELECT movieID, COUNT(movieID) as numRatings, AVG(rating) as avgRating\n",
    "          FROM ratings\n",
    "          GROUP BY movieID\n",
    "          ORDER BY numRatings DESC\"\"\").show()"
   ]
  },
  {
   "cell_type": "code",
   "execution_count": 28,
   "metadata": {
    "collapsed": false
   },
   "outputs": [],
   "source": [
    "ss.catalog.dropTempView(\"ratings\")"
   ]
  },
  {
   "cell_type": "markdown",
   "metadata": {},
   "source": [
    "## Preprocessing"
   ]
  },
  {
   "cell_type": "code",
   "execution_count": null,
   "metadata": {
    "collapsed": true
   },
   "outputs": [],
   "source": [
    "from pyspark.ml.feature import StringIndexer\n",
    "from pyspark.ml.feature import IndexToString"
   ]
  },
  {
   "cell_type": "code",
   "execution_count": null,
   "metadata": {
    "collapsed": true
   },
   "outputs": [],
   "source": []
  },
  {
   "cell_type": "markdown",
   "metadata": {},
   "source": [
    "## Model training"
   ]
  },
  {
   "cell_type": "code",
   "execution_count": null,
   "metadata": {
    "collapsed": true
   },
   "outputs": [],
   "source": [
    "from pyspark.ml.recommendation import ALS\n",
    "from pyspark.ml.evaluation import RegressionEvaluator"
   ]
  },
  {
   "cell_type": "markdown",
   "metadata": {},
   "source": [
    "## Results"
   ]
  },
  {
   "cell_type": "code",
   "execution_count": null,
   "metadata": {
    "collapsed": true
   },
   "outputs": [],
   "source": []
  }
 ],
 "metadata": {
  "anaconda-cloud": {},
  "kernelspec": {
   "display_name": "Python [conda root]",
   "language": "python",
   "name": "conda-root-py"
  },
  "language_info": {
   "codemirror_mode": {
    "name": "ipython",
    "version": 3
   },
   "file_extension": ".py",
   "mimetype": "text/x-python",
   "name": "python",
   "nbconvert_exporter": "python",
   "pygments_lexer": "ipython3",
   "version": "3.5.2"
  }
 },
 "nbformat": 4,
 "nbformat_minor": 1
}
